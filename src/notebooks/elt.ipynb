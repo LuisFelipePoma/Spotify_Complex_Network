{
 "cells": [
  {
   "cell_type": "code",
   "execution_count": 1,
   "metadata": {},
   "outputs": [],
   "source": [
    "import pandas as pd\n",
    "import networkx as nx\n",
    "import json"
   ]
  },
  {
   "cell_type": "code",
   "execution_count": 10,
   "metadata": {},
   "outputs": [],
   "source": [
    "def read_jsons(filedir:str):\n",
    "    with open(filedir) as f:\n",
    "        data = json.load(f)\n",
    "    # Convert the JSON data to a DataFrame\n",
    "    return pd.DataFrame.from_dict(data[\"playlists\"])"
   ]
  },
  {
   "cell_type": "code",
   "execution_count": 11,
   "metadata": {},
   "outputs": [],
   "source": [
    "RANGE = range(0,1001)\n",
    "edges = []\n",
    "\n",
    "def get_nodes(key:str,filename:str):\n",
    "    user_index = 0\n",
    "    for file in RANGE:\n",
    "        if (file %250 == 0 and file != 0):\n",
    "            print(\"Saving file\", file)\n",
    "            # Save the filein csv in format of edges\n",
    "            # user , song_name \n",
    "            dp = pd.DataFrame(edges, columns=[\"user\", key])\n",
    "            dp.to_csv(f\"../datasets/edges/{filename}-{file}.csv\", index=False)\n",
    "            del dp\n",
    "            edges.clear()\n",
    "            if file == 1000: return\n",
    "        print(\"Reading file\", file)\n",
    "        df: pd.DataFrame = read_jsons(f\"../datasets/data/{file}.json\")\n",
    "        # Seleccionar la mitad\n",
    "        df = df.sample(frac=0.1)\n",
    "        for index, row in df.iterrows():\n",
    "            user = f\"user{index}-{row[\"name\"].strip()}\"\n",
    "            for song in row[\"tracks\"]:\n",
    "                edges.append((user, song[key]))\n",
    "            user_index+=1\n",
    "        "
   ]
  },
  {
   "cell_type": "markdown",
   "metadata": {},
   "source": [
    "# Edges (Users - Artists)"
   ]
  },
  {
   "cell_type": "code",
   "execution_count": null,
   "metadata": {},
   "outputs": [],
   "source": [
    "get_nodes(\"artist_name\",\"UserA\")"
   ]
  },
  {
   "cell_type": "markdown",
   "metadata": {},
   "source": [
    "# Edges (Users - Songs)\n"
   ]
  },
  {
   "cell_type": "code",
   "execution_count": null,
   "metadata": {},
   "outputs": [],
   "source": [
    "get_nodes(\"track_name\",\"UserS\")"
   ]
  },
  {
   "cell_type": "markdown",
   "metadata": {},
   "source": [
    "# Edges (Users - Album)"
   ]
  },
  {
   "cell_type": "code",
   "execution_count": null,
   "metadata": {},
   "outputs": [],
   "source": [
    "get_nodes(\"album_name\",\"UserAB\")"
   ]
  }
 ],
 "metadata": {
  "kernelspec": {
   "display_name": "spotify-network",
   "language": "python",
   "name": "python3"
  },
  "language_info": {
   "codemirror_mode": {
    "name": "ipython",
    "version": 3
   },
   "file_extension": ".py",
   "mimetype": "text/x-python",
   "name": "python",
   "nbconvert_exporter": "python",
   "pygments_lexer": "ipython3",
   "version": "3.12.5"
  }
 },
 "nbformat": 4,
 "nbformat_minor": 2
}
